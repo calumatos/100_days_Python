{
 "cells": [
  {
   "cell_type": "markdown",
   "id": "4bf91dbd",
   "metadata": {},
   "source": [
    "### Caesar Cipher - Project Day 8"
   ]
  },
  {
   "cell_type": "markdown",
   "id": "f2676012",
   "metadata": {},
   "source": [
    "The Caesar cipher, also known as Caesar shift or shift cipher, is a simple and classic encryption technique. \n",
    "It is a type of substitution cipher where each letter in the plaintext is shifted a certain number of places down or up the alphabet. This shift creates the ciphertext.\n",
    "\n",
    "The method is named after Julius Caesar, who is historically credited with using it to communicate with his generals. \n",
    "The most common form of the Caesar cipher involves shifting the letters by a fixed number, known as the \"key\" or \"shift value.\"\n",
    "\n",
    "For example, with a shift of 3:\n",
    "\n",
    "A becomes D\n",
    "B becomes E\n",
    "C becomes F\n",
    "\n",
    "The decryption process involves shifting the letters in the opposite direction by the same key to obtain the original message.\n",
    "\n",
    "...\n",
    "\n",
    "While the Caesar cipher is straightforward, it is not considered secure for serious cryptographic purposes because there are only 25 possible keys (assuming a standard English alphabet), making it vulnerable to brute-force attacks. Despite its lack of security, the Caesar cipher is often used as a teaching tool to introduce the concept of encryption and basic cryptographic principles.\n",
    "\n",
    "https://en.wikipedia.org/wiki/Caesar_cipher\n"
   ]
  },
  {
   "cell_type": "code",
   "execution_count": null,
   "id": "2b1b480e",
   "metadata": {},
   "outputs": [],
   "source": [
    "alphabet = ['a', 'b', 'c', 'd', 'e', 'f', 'g', 'h', 'i', 'j', 'k', 'l', 'm', \n",
    "            'n', 'o', 'p', 'q', 'r', 's', 't', 'u', 'v', 'w', 'x', 'y', 'z', \n",
    "            'a', 'b', 'c', 'd', 'e', 'f', 'g', 'h', 'i', 'j', 'k', 'l', 'm', \n",
    "            'n', 'o', 'p', 'q', 'r', 's', 't', 'u', 'v', 'w', 'x', 'y', 'z']\n",
    "\n",
    "while True:\n",
    "    direction = input(\"Type 'encode' to encrypt, type 'decode' to decrypt:\\n\")\n",
    "    text = input(\"\\nType your message:\\n\").lower()\n",
    "    shift = int(input(\"\\nType the shift number:\\n\"))\n",
    "    shift = shift % 26\n",
    "    caesar(start_text=text, shift_value=shift, cipher_direction=direction)\n",
    "    cont = input(\"\\nType 'yes' if you want to go again. Otherwise type 'no'.\\n\")\n",
    "    if cont == \"no\":\n",
    "        print(\"\\n\\nGoodbye\")\n",
    "        break\n",
    "    \n",
    "def caesar(start_text, shift_value, cipher_direction):\n",
    "    end_text = \"\"\n",
    "    if cipher_direction == \"decode\":\n",
    "        shift_value *= -1 \n",
    "    for char in start_text:\n",
    "        if char in alphabet:\n",
    "            position = alphabet.index(char)\n",
    "            new_position = position + shift_value\n",
    "            end_text += alphabet[new_position]\n",
    "        else:\n",
    "            end_text += char\n",
    "    print(f\"Here is the {cipher_direction}d result: {end_text}\")"
   ]
  }
 ],
 "metadata": {
  "kernelspec": {
   "display_name": "Python 3 (ipykernel)",
   "language": "python",
   "name": "python3"
  },
  "language_info": {
   "codemirror_mode": {
    "name": "ipython",
    "version": 3
   },
   "file_extension": ".py",
   "mimetype": "text/x-python",
   "name": "python",
   "nbconvert_exporter": "python",
   "pygments_lexer": "ipython3",
   "version": "3.11.5"
  }
 },
 "nbformat": 4,
 "nbformat_minor": 5
}
