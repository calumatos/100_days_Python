{
 "cells": [
  {
   "cell_type": "markdown",
   "id": "2b8c2324",
   "metadata": {},
   "source": [
    "## Tresure Island Game - day 3 "
   ]
  },
  {
   "cell_type": "code",
   "execution_count": null,
   "id": "774eabdc",
   "metadata": {},
   "outputs": [
    {
     "name": "stdout",
     "output_type": "stream",
     "text": [
      "                   \n",
      "*******************************************************************************\n",
      "          |                   |                  |                     |\n",
      " _________|________________.=\"\"_;=.______________|_____________________|_______\n",
      "|                   |  ,-\"_,=\"\"     `\"=.|                  |\n",
      "|___________________|__\"=._o`\"-._        `\"=.______________|___________________\n",
      "          |                `\"=._o`\"=._      _`\"=._                     |\n",
      " _________|_____________________:=._o \"=._.\"_.-=\"'\"=.__________________|_______\n",
      "|                   |    __.--\" , ; `\"=._o.\" ,-\"\"\"-._ \".   |\n",
      "|___________________|_._\"  ,. .` ` `` ,  `\"-._\"-._   \". '__|___________________\n",
      "          |           |o`\"=._` , \"` `; .\". ,  \"-._\"-._; ;              |\n",
      " _________|___________| ;`-.o`\"=._; .\" ` '`.\"\\` . \"-._ /_______________|_______\n",
      "|                   | |o;    `\"-.o`\"=._``  '` \" ,__.--o;   |\n",
      "|___________________|_| ;     (#) `-.o `\"=.`_.--\"_o.-; ;___|___________________\n",
      "____/______/______/___|o;._    \"      `\".o|o_.--\"    ;o;____/______/______/____\n",
      "/______/______/______/_\"=._o--._        ; | ;        ; ;/______/______/______/_\n",
      "____/______/______/______/__\"=._o--._   ;o|o;     _._;o;____/______/______/____\n",
      "/______/______/______/______/____\"=._o._; | ;_.--\"o.--\"_/______/______/______/_\n",
      "____/______/______/______/______/_____\"=.o|o_.--\"\"___/______/______/______/____\n",
      "/______/______/______/______/______/______/______/______/______/______/[TomekK]\n",
      "*******************************************************************************                \n",
      "\n",
      "Welcome to Tresure Island\n",
      "Your mission is to find the tresure. Good Luck!\n",
      "You are looking for a tresure. \n",
      "You've found two ways to go, which one would you choose? Left or right? left\n"
     ]
    }
   ],
   "source": [
    "print('''                   \n",
    "*******************************************************************************\n",
    "          |                   |                  |                     |\n",
    " _________|________________.=\"\"_;=.______________|_____________________|_______\n",
    "|                   |  ,-\"_,=\"\"     `\"=.|                  |\n",
    "|___________________|__\"=._o`\"-._        `\"=.______________|___________________\n",
    "          |                `\"=._o`\"=._      _`\"=._                     |\n",
    " _________|_____________________:=._o \"=._.\"_.-=\"'\"=.__________________|_______\n",
    "|                   |    __.--\" , ; `\"=._o.\" ,-\"\"\"-._ \".   |\n",
    "|___________________|_._\"  ,. .` ` `` ,  `\"-._\"-._   \". '__|___________________\n",
    "          |           |o`\"=._` , \"` `; .\". ,  \"-._\"-._; ;              |\n",
    " _________|___________| ;`-.o`\"=._; .\" ` '`.\"\\` . \"-._ /_______________|_______\n",
    "|                   | |o;    `\"-.o`\"=._``  '` \" ,__.--o;   |\n",
    "|___________________|_| ;     (#) `-.o `\"=.`_.--\"_o.-; ;___|___________________\n",
    "____/______/______/___|o;._    \"      `\".o|o_.--\"    ;o;____/______/______/____\n",
    "/______/______/______/_\"=._o--._        ; | ;        ; ;/______/______/______/_\n",
    "____/______/______/______/__\"=._o--._   ;o|o;     _._;o;____/______/______/____\n",
    "/______/______/______/______/____\"=._o._; | ;_.--\"o.--\"_/______/______/______/_\n",
    "____/______/______/______/______/_____\"=.o|o_.--\"\"___/______/______/______/____\n",
    "/______/______/______/______/______/______/______/______/______/______/[TomekK]\n",
    "*******************************************************************************                \n",
    "''')\n",
    "\n",
    "print(\"Welcome to Tresure Island\")\n",
    "print(\"Your mission is to find the tresure. Good Luck!\")\n",
    "decision1 = input(\"You are looking for a tresure. \\nYou've found two ways to go, which one would you choose? Left or right? \").lower()\n",
    "if decision1 == \"right\":\n",
    "    print(\"Fall into a hole. GAME OVER.\")\n",
    "else:\n",
    "    decision2 = input(\"You've come to a lake. There is an island in the middle of the lake. \\nType 'wait' to wait for a boat. Type 'swim' to swim across. \").lower()\n",
    "    if decision2 == \"wait\":\n",
    "        door = input(\"You found an abandoned house. There are three doors, which one of them would you open? Red, Yellow or Blue? \").lower()\n",
    "        if door == \"red\":\n",
    "            print(\"Burned by fire, GAME OVER.\")\n",
    "        elif door == \"yellow\":\n",
    "            print(\"CONGRATULATIONS! You found the tresure.\")\n",
    "        elif door == \"blue\":   \n",
    "            print(\"Eatem by beasts. GAME OVER.\")\n",
    "        else:\n",
    "            print(\"GAME OVER.\")\n",
    "    else:\n",
    "        print(\"Attacked by trout. GAME OVER.\")"
   ]
  },
  {
   "cell_type": "code",
   "execution_count": null,
   "id": "d49799a5",
   "metadata": {},
   "outputs": [],
   "source": []
  },
  {
   "cell_type": "code",
   "execution_count": null,
   "id": "74fd9fdd",
   "metadata": {},
   "outputs": [],
   "source": []
  },
  {
   "cell_type": "code",
   "execution_count": null,
   "id": "02443f22",
   "metadata": {},
   "outputs": [],
   "source": []
  }
 ],
 "metadata": {
  "kernelspec": {
   "display_name": "Python 3 (ipykernel)",
   "language": "python",
   "name": "python3"
  },
  "language_info": {
   "codemirror_mode": {
    "name": "ipython",
    "version": 3
   },
   "file_extension": ".py",
   "mimetype": "text/x-python",
   "name": "python",
   "nbconvert_exporter": "python",
   "pygments_lexer": "ipython3",
   "version": "3.11.5"
  }
 },
 "nbformat": 4,
 "nbformat_minor": 5
}
