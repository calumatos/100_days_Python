{
 "cells": [
  {
   "cell_type": "markdown",
   "id": "7ad5cc34",
   "metadata": {},
   "source": [
    "## Tip calculator - day 2\n",
    "\n",
    "Short programme that calculates the total amount to be paid, including the tip.\n",
    "The user must enter\n",
    "- the total amount of the bill\n",
    "- the percentage of the tip from the three given options (10, 12, 15%)\n",
    "- and the number of people sharing the total amount\n",
    "\n",
    "The result is the amount to be paid by each person."
   ]
  },
  {
   "cell_type": "code",
   "execution_count": null,
   "id": "4ea6d48d",
   "metadata": {},
   "outputs": [],
   "source": [
    "print(\">> Welcome to the tip calculator <<\")\n",
    "bill = float(input(\"What was the total bill? $\"))\n",
    "tip = float(input(\"What percentage tip would you like to give? 10, 12 or 15%? \"))\n",
    "people = int(input(\"How many people to split the bill? \"))\n",
    "new_bill = bill + (bill * (tip/100))\n",
    "#print(new_bill)\n",
    "#total = new_bill/people\n",
    "total = \"{:.2f}\".format(new_bill/people) # to format the decimals with two numbers\n",
    "print(f\"Each person should pay: ${total}\")"
   ]
  }
 ],
 "metadata": {
  "kernelspec": {
   "display_name": "Python 3 (ipykernel)",
   "language": "python",
   "name": "python3"
  },
  "language_info": {
   "codemirror_mode": {
    "name": "ipython",
    "version": 3
   },
   "file_extension": ".py",
   "mimetype": "text/x-python",
   "name": "python",
   "nbconvert_exporter": "python",
   "pygments_lexer": "ipython3",
   "version": "3.11.5"
  }
 },
 "nbformat": 4,
 "nbformat_minor": 5
}
