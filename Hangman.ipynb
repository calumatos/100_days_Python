{
 "cells": [
  {
   "cell_type": "markdown",
   "id": "cf9f93a8",
   "metadata": {},
   "source": [
    "## Hangman Game - day 7"
   ]
  },
  {
   "cell_type": "markdown",
   "id": "19863478",
   "metadata": {},
   "source": [
    "In this game the player is given a chosen word (from the hangman_words file) and has a certain number of attempts to guess the characters in the word. \n",
    "If the player is able to guess all the characters in the word in a given number of attempts, the player wins. Otherwise, the player loses.\n",
    "\n",
    "https://en.wikipedia.org/wiki/Hangman_(game)"
   ]
  },
  {
   "cell_type": "code",
   "execution_count": null,
   "id": "c53a0655",
   "metadata": {},
   "outputs": [],
   "source": [
    "import random\n",
    "import hangman_art \n",
    "import hangman_words \n",
    "\n",
    "logo = hangman_art.logo\n",
    "print(logo)\n",
    "print(\"\\n-----------------------------------------------\")\n",
    "print(\"\\nLet's start the game. Good luck!!!\\n\")\n",
    "\n",
    "\n",
    "chosen_word = random.choice(hangman_words.word_list)\n",
    "\n",
    "# Testing code\n",
    "# print(f'Pssst, the solution is {chosen_word}.')\n",
    "\n",
    "display = []\n",
    "word_length = len(chosen_word)\n",
    "for _ in range(word_length):\n",
    "    display += \"_\"\n",
    "# print(display)\n",
    "\n",
    "lives = 6\n",
    "\n",
    "while True:\n",
    "    guess = input(\"\\nPlease, guess one letter: \").lower()         \n",
    "    \n",
    "    if guess in display:\n",
    "        print(f\"You already choose the letter '{guess}', try again.\")\n",
    "    \n",
    "    for position in range(word_length):\n",
    "        letter = chosen_word[position]\n",
    "        if letter == guess:\n",
    "            display[position] = letter \n",
    "\n",
    "    if guess not in chosen_word:\n",
    "        lives -= 1\n",
    "        print(\"This letter is not in the word, you lose a life.\")\n",
    "        print(hangman_art.stages[lives])\n",
    "    #print(display)\n",
    "    \n",
    "    print(f\"{' '.join(display)}\")\n",
    "    \n",
    "    if \"_\" not in display:\n",
    "        print(\"\\nYou win!\")\n",
    "        break\n",
    "        \n",
    "    elif lives == 0:\n",
    "        print(\"\\nYou ran out of lives. You lose!!!\")\n",
    "        break"
   ]
  }
 ],
 "metadata": {
  "kernelspec": {
   "display_name": "Python 3 (ipykernel)",
   "language": "python",
   "name": "python3"
  },
  "language_info": {
   "codemirror_mode": {
    "name": "ipython",
    "version": 3
   },
   "file_extension": ".py",
   "mimetype": "text/x-python",
   "name": "python",
   "nbconvert_exporter": "python",
   "pygments_lexer": "ipython3",
   "version": "3.11.5"
  }
 },
 "nbformat": 4,
 "nbformat_minor": 5
}
