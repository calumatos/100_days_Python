{
 "cells": [
  {
   "cell_type": "markdown",
   "id": "d5cb103c",
   "metadata": {},
   "source": [
    "## Password Generator - day 5"
   ]
  },
  {
   "cell_type": "code",
   "execution_count": 1,
   "id": "93517468",
   "metadata": {},
   "outputs": [],
   "source": [
    "import random\n",
    "letters = ['a', 'b', 'c', 'd', 'e', 'f', 'g', 'h', 'i', 'j', 'k', 'l', \n",
    "           'm', 'n', 'o', 'p', 'q', 'r', 's', 't', 'u', 'v', 'w', 'x', \n",
    "           'y', 'z', 'A', 'B', 'C', 'D', 'E', 'F', 'G', 'H', 'I', 'J', \n",
    "           'K', 'L', 'M', 'N', 'O', 'P', 'Q', 'R', 'S', 'T', 'U', 'V', \n",
    "           'W', 'X', 'Y', 'Z']\n",
    "\n",
    "numbers = ['0', '1', '2', '3', '4', '5', '6', '7', '8', '9']\n",
    "\n",
    "symbols = ['!', '@', '#', '$', '%', '^', '&', '*', '(', ')', \n",
    "           '-', '_', '+', '=', '{', '}', '[', ']', ';', ':', \n",
    "           \"'\", '\"', '<', '>', ',', '.', '/', '?']"
   ]
  },
  {
   "cell_type": "code",
   "execution_count": 2,
   "id": "dbccf9f4",
   "metadata": {},
   "outputs": [
    {
     "name": "stdout",
     "output_type": "stream",
     "text": [
      "Welcome to the PyPassword Generator!\n",
      "How many letters would like in your password? \n",
      "8\n",
      "How many symbols would you like? \n",
      "3\n",
      "How many numbers would you like? \n",
      "2\n"
     ]
    }
   ],
   "source": [
    "print(\"Welcome to the PyPassword Generator!\")\n",
    "num_letters = int(input(\"How many letters would like in your password? \\n\"))\n",
    "num_symbols = int(input(\"How many symbols would you like? \\n\"))\n",
    "num_numbers = int(input(\"How many numbers would you like? \\n\"))"
   ]
  },
  {
   "cell_type": "code",
   "execution_count": 3,
   "id": "64ea5f42",
   "metadata": {},
   "outputs": [
    {
     "name": "stdout",
     "output_type": "stream",
     "text": [
      "You password could be: oQggr.>6\n"
     ]
    }
   ],
   "source": [
    "# Easy level\n",
    "\n",
    "# to generate the random letters\n",
    "password_letters = \"\"\n",
    "for i in range(1, num_letters + 1):\n",
    "    rand_letters = random.choice(letters)\n",
    "    password_letters = password_letters + rand_letters\n",
    "\n",
    "# to generate the random symbols\n",
    "password_symb = \"\"\n",
    "for i in range(1, num_symbols + 1):\n",
    "    rand_symbols = random.choice(symbols)\n",
    "    password_symb = password_symb + rand_symbols\n",
    "\n",
    "# to generate the random numbers\n",
    "password_num = \"\"\n",
    "for i in range(1, num_numbers + 1):\n",
    "    rand_numbers = random.choice(numbers)\n",
    "    password_num = password_num + rand_numbers\n",
    "\n",
    "password = password_letters + password_symb + password_num\n",
    "print(f\"You password could be: {password}\")"
   ]
  },
  {
   "cell_type": "code",
   "execution_count": 3,
   "id": "64575edb",
   "metadata": {},
   "outputs": [
    {
     "name": "stdout",
     "output_type": "stream",
     "text": [
      "You password could be: x2Xh=3px_l=MN\n"
     ]
    }
   ],
   "source": [
    "# Hard Level\n",
    "\n",
    "password_list = []\n",
    "\n",
    "# to generate the random letters\n",
    "for i in range(1, num_letters + 1):\n",
    "    password_list.append(random.choice(letters))\n",
    "    \n",
    "# to generate the random symbols\n",
    "for i in range(1, num_symbols + 1):\n",
    "    password_list.append(random.choice(symbols))\n",
    "\n",
    "# to generate the random numbers\n",
    "for i in range(1, num_numbers + 1):\n",
    "    password_list.append(random.choice(numbers))\n",
    "\n",
    "random.shuffle(password_list) # shuffle the list\n",
    "\n",
    "password = \"\"\n",
    "\n",
    "for i in password_list: # to put the elements of the list together in a word\n",
    "    password += i\n",
    "print(f\"You password could be: {password}\")"
   ]
  },
  {
   "cell_type": "code",
   "execution_count": null,
   "id": "ee034134",
   "metadata": {},
   "outputs": [],
   "source": []
  }
 ],
 "metadata": {
  "kernelspec": {
   "display_name": "Python 3 (ipykernel)",
   "language": "python",
   "name": "python3"
  },
  "language_info": {
   "codemirror_mode": {
    "name": "ipython",
    "version": 3
   },
   "file_extension": ".py",
   "mimetype": "text/x-python",
   "name": "python",
   "nbconvert_exporter": "python",
   "pygments_lexer": "ipython3",
   "version": "3.11.5"
  }
 },
 "nbformat": 4,
 "nbformat_minor": 5
}
