{
 "cells": [
  {
   "cell_type": "markdown",
   "id": "20d4471a",
   "metadata": {},
   "source": [
    "## Calculator - day 10\n",
    "\n",
    "This basic calculator is similar to a small handheld calculator and has the standard four functions for addition, subtraction, division and multiplication. "
   ]
  },
  {
   "cell_type": "code",
   "execution_count": 1,
   "id": "c6add606",
   "metadata": {},
   "outputs": [],
   "source": [
    "calclogo = \"\"\"\n",
    " _____________________\n",
    "|  _________________  |\n",
    "| | Pythonista   0. | |  .----------------.  .----------------.  .----------------.  .----------------. \n",
    "| |_________________| | | .--------------. || .--------------. || .--------------. || .--------------. |\n",
    "|  ___ ___ ___   ___  | | |     ______   | || |      __      | || |   _____      | || |     ______   | |\n",
    "| | 7 | 8 | 9 | | + | | | |   .' ___  |  | || |     /  \\     | || |  |_   _|     | || |   .' ___  |  | |\n",
    "| |___|___|___| |___| | | |  / .'   \\_|  | || |    / /\\ \\    | || |    | |       | || |  / .'   \\_|  | |\n",
    "| | 4 | 5 | 6 | | - | | | |  | |         | || |   / ____ \\   | || |    | |   _   | || |  | |         | |\n",
    "| |___|___|___| |___| | | |  \\ `.___.'\\  | || | _/ /    \\ \\_ | || |   _| |__/ |  | || |  \\ `.___.'\\  | |\n",
    "| | 1 | 2 | 3 | | x | | | |   `._____.'  | || ||____|  |____|| || |  |________|  | || |   `._____.'  | |\n",
    "| |___|___|___| |___| | | |              | || |              | || |              | || |              | |\n",
    "| | . | 0 | = | | / | | | '--------------' || '--------------' || '--------------' || '--------------' |\n",
    "| |___|___|___| |___| |  '----------------'  '----------------'  '----------------'  '----------------' \n",
    "|_____________________|\n",
    "\"\"\""
   ]
  },
  {
   "cell_type": "code",
   "execution_count": 2,
   "id": "60900ce5",
   "metadata": {},
   "outputs": [],
   "source": [
    "### Functions:\n",
    "\n",
    "# Add\n",
    "def add(n1, n2):\n",
    "    return n1 + n2\n",
    "\n",
    "# Subtract\n",
    "def subtract(n1, n2):\n",
    "    return n1 - n2\n",
    "\n",
    "# Multiply\n",
    "def multiply(n1, n2):\n",
    "    return n1 * n2\n",
    "\n",
    "# Divide\n",
    "def divide(n1, n2):\n",
    "    return n1 / n2\n",
    "\n",
    "### Operations: \n",
    "\n",
    "operations = {\n",
    "            \"+\": add, \n",
    "            \"-\": subtract, \n",
    "            \"*\": multiply, \n",
    "            \"/\": divide,\n",
    "             }"
   ]
  },
  {
   "cell_type": "code",
   "execution_count": 3,
   "id": "06acc3e4",
   "metadata": {},
   "outputs": [],
   "source": [
    "def calculator():\n",
    "    print(calclogo)\n",
    "    num1 = float(input(\"What is the first number? \"))\n",
    "\n",
    "    for op in operations:\n",
    "        print(op)\n",
    "\n",
    "    continue_calculating = True\n",
    "\n",
    "    while continue_calculating:\n",
    "        user_choice = input(\"Pick an operation: \")\n",
    "        num2 = float(input(\"What is the next number? \"))\n",
    "        calculation_function = operations[user_choice]\n",
    "        answer = calculation_function(num1, num2)\n",
    "        print(f\"{num1} {user_choice} {num2} = {answer}\")\n",
    "        user_choice = input(f\"Type 'y' to continue calculating with {answer}, or type 'n' to start a new calculation or 'e' to exit: \").lower()\n",
    "\n",
    "        if user_choice == \"y\":\n",
    "            num1 = answer\n",
    "        elif user_choice == \"n\":\n",
    "            continue_calculating = False\n",
    "        else:\n",
    "            print(\">> FINISH <<\")\n",
    "            break"
   ]
  },
  {
   "cell_type": "code",
   "execution_count": 4,
   "id": "5ff3e4bb",
   "metadata": {},
   "outputs": [
    {
     "name": "stdout",
     "output_type": "stream",
     "text": [
      "\n",
      " _____________________\n",
      "|  _________________  |\n",
      "| | Pythonista   0. | |  .----------------.  .----------------.  .----------------.  .----------------. \n",
      "| |_________________| | | .--------------. || .--------------. || .--------------. || .--------------. |\n",
      "|  ___ ___ ___   ___  | | |     ______   | || |      __      | || |   _____      | || |     ______   | |\n",
      "| | 7 | 8 | 9 | | + | | | |   .' ___  |  | || |     /  \\     | || |  |_   _|     | || |   .' ___  |  | |\n",
      "| |___|___|___| |___| | | |  / .'   \\_|  | || |    / /\\ \\    | || |    | |       | || |  / .'   \\_|  | |\n",
      "| | 4 | 5 | 6 | | - | | | |  | |         | || |   / ____ \\   | || |    | |   _   | || |  | |         | |\n",
      "| |___|___|___| |___| | | |  \\ `.___.'\\  | || | _/ /    \\ \\_ | || |   _| |__/ |  | || |  \\ `.___.'\\  | |\n",
      "| | 1 | 2 | 3 | | x | | | |   `._____.'  | || ||____|  |____|| || |  |________|  | || |   `._____.'  | |\n",
      "| |___|___|___| |___| | | |              | || |              | || |              | || |              | |\n",
      "| | . | 0 | = | | / | | | '--------------' || '--------------' || '--------------' || '--------------' |\n",
      "| |___|___|___| |___| |  '----------------'  '----------------'  '----------------'  '----------------' \n",
      "|_____________________|\n",
      "\n",
      "What is the first number? 4\n",
      "+\n",
      "-\n",
      "*\n",
      "/\n",
      "Pick an operation: +\n",
      "What is the next number? 7\n",
      "4.0 + 7.0 = 11.0\n",
      "Type 'y' to continue calculating with 11.0, or type 'n' to start a new calculation or 'e' to exit: y\n",
      "Pick an operation: /\n",
      "What is the next number? 2\n",
      "11.0 / 2.0 = 5.5\n",
      "Type 'y' to continue calculating with 5.5, or type 'n' to start a new calculation or 'e' to exit: e\n",
      ">> FINISH <<\n"
     ]
    }
   ],
   "source": [
    "calculator()"
   ]
  },
  {
   "cell_type": "code",
   "execution_count": null,
   "id": "5e0812bd",
   "metadata": {},
   "outputs": [],
   "source": []
  }
 ],
 "metadata": {
  "kernelspec": {
   "display_name": "Python 3 (ipykernel)",
   "language": "python",
   "name": "python3"
  },
  "language_info": {
   "codemirror_mode": {
    "name": "ipython",
    "version": 3
   },
   "file_extension": ".py",
   "mimetype": "text/x-python",
   "name": "python",
   "nbconvert_exporter": "python",
   "pygments_lexer": "ipython3",
   "version": "3.11.5"
  }
 },
 "nbformat": 4,
 "nbformat_minor": 5
}
