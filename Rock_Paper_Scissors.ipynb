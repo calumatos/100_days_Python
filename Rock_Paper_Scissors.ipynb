{
 "cells": [
  {
   "cell_type": "markdown",
   "id": "f8d882fc",
   "metadata": {},
   "source": [
    "## Rock Paper Scissors Game - day 4"
   ]
  },
  {
   "cell_type": "markdown",
   "id": "0385b949",
   "metadata": {},
   "source": [
    "Rock, Paper, Scissors is a hand game often used as a decision-making tool between two people. It's a game of chance, and each of the three elements (Rock, Paper, and Scissors) defeats one of the other elements and is defeated by the third. \n",
    "\n",
    "- Rock: Represented by a fist. It defeats Scissors (crushes them).\n",
    "- Paper: Represented by an open hand. It defeats Rock (covers it).\n",
    "- Scissors: Represented by a fist with the index and middle fingers extended, forming a V. They defeat Paper (cut it).\n",
    "\n",
    "Players count to three in unison and simultaneously throw one of the hand signals. The winner of each round is determined based \n",
    "\n",
    "https://en.wikipedia.org/wiki/Rock_paper_scissors"
   ]
  },
  {
   "cell_type": "code",
   "execution_count": 1,
   "id": "93c6f12b",
   "metadata": {},
   "outputs": [
    {
     "name": "stdout",
     "output_type": "stream",
     "text": [
      ">>> WELCOME TO ROCK PAPER SCISSSORS GAME <<<\n"
     ]
    },
    {
     "ename": "KeyboardInterrupt",
     "evalue": "Interrupted by user",
     "output_type": "error",
     "traceback": [
      "\u001b[1;31m---------------------------------------------------------------------------\u001b[0m",
      "\u001b[1;31mKeyboardInterrupt\u001b[0m                         Traceback (most recent call last)",
      "Cell \u001b[1;32mIn[1], line 4\u001b[0m\n\u001b[0;32m      1\u001b[0m \u001b[38;5;28;01mimport\u001b[39;00m \u001b[38;5;21;01mrandom\u001b[39;00m\n\u001b[0;32m      3\u001b[0m \u001b[38;5;28mprint\u001b[39m(\u001b[38;5;124m\"\u001b[39m\u001b[38;5;124m>>> WELCOME TO ROCK PAPER SCISSSORS GAME <<<\u001b[39m\u001b[38;5;124m\"\u001b[39m)\n\u001b[1;32m----> 4\u001b[0m user \u001b[38;5;241m=\u001b[39m \u001b[38;5;28mint\u001b[39m(\u001b[38;5;28minput\u001b[39m(\u001b[38;5;124m\"\u001b[39m\u001b[38;5;130;01m\\n\u001b[39;00m\u001b[38;5;124mWhat do you choose? Type 0 for \u001b[39m\u001b[38;5;124m'\u001b[39m\u001b[38;5;124mrock\u001b[39m\u001b[38;5;124m'\u001b[39m\u001b[38;5;124m, 1 for \u001b[39m\u001b[38;5;124m'\u001b[39m\u001b[38;5;124mpaper\u001b[39m\u001b[38;5;124m'\u001b[39m\u001b[38;5;124m and 2 for \u001b[39m\u001b[38;5;124m'\u001b[39m\u001b[38;5;124mscissors\u001b[39m\u001b[38;5;124m'\u001b[39m\u001b[38;5;124m: \u001b[39m\u001b[38;5;124m\"\u001b[39m))\n\u001b[0;32m      5\u001b[0m computer \u001b[38;5;241m=\u001b[39m random\u001b[38;5;241m.\u001b[39mrandint(\u001b[38;5;241m0\u001b[39m, \u001b[38;5;241m2\u001b[39m)\n\u001b[0;32m      7\u001b[0m rock \u001b[38;5;241m=\u001b[39m (\u001b[38;5;124m\"\"\"\u001b[39m\n\u001b[0;32m      8\u001b[0m \u001b[38;5;124m    _______\u001b[39m\n\u001b[0;32m      9\u001b[0m \u001b[38;5;124m---\u001b[39m\u001b[38;5;124m'\u001b[39m\u001b[38;5;124m   ____)\u001b[39m\n\u001b[1;32m   (...)\u001b[0m\n\u001b[0;32m     13\u001b[0m \u001b[38;5;124m---.__(___)\u001b[39m\n\u001b[0;32m     14\u001b[0m \u001b[38;5;124m\"\"\"\u001b[39m)\n",
      "File \u001b[1;32m~\\anaconda3\\Lib\\site-packages\\ipykernel\\kernelbase.py:1202\u001b[0m, in \u001b[0;36mKernel.raw_input\u001b[1;34m(self, prompt)\u001b[0m\n\u001b[0;32m   1200\u001b[0m     msg \u001b[38;5;241m=\u001b[39m \u001b[38;5;124m\"\u001b[39m\u001b[38;5;124mraw_input was called, but this frontend does not support input requests.\u001b[39m\u001b[38;5;124m\"\u001b[39m\n\u001b[0;32m   1201\u001b[0m     \u001b[38;5;28;01mraise\u001b[39;00m StdinNotImplementedError(msg)\n\u001b[1;32m-> 1202\u001b[0m \u001b[38;5;28;01mreturn\u001b[39;00m \u001b[38;5;28mself\u001b[39m\u001b[38;5;241m.\u001b[39m_input_request(\n\u001b[0;32m   1203\u001b[0m     \u001b[38;5;28mstr\u001b[39m(prompt),\n\u001b[0;32m   1204\u001b[0m     \u001b[38;5;28mself\u001b[39m\u001b[38;5;241m.\u001b[39m_parent_ident[\u001b[38;5;124m\"\u001b[39m\u001b[38;5;124mshell\u001b[39m\u001b[38;5;124m\"\u001b[39m],\n\u001b[0;32m   1205\u001b[0m     \u001b[38;5;28mself\u001b[39m\u001b[38;5;241m.\u001b[39mget_parent(\u001b[38;5;124m\"\u001b[39m\u001b[38;5;124mshell\u001b[39m\u001b[38;5;124m\"\u001b[39m),\n\u001b[0;32m   1206\u001b[0m     password\u001b[38;5;241m=\u001b[39m\u001b[38;5;28;01mFalse\u001b[39;00m,\n\u001b[0;32m   1207\u001b[0m )\n",
      "File \u001b[1;32m~\\anaconda3\\Lib\\site-packages\\ipykernel\\kernelbase.py:1245\u001b[0m, in \u001b[0;36mKernel._input_request\u001b[1;34m(self, prompt, ident, parent, password)\u001b[0m\n\u001b[0;32m   1242\u001b[0m \u001b[38;5;28;01mexcept\u001b[39;00m \u001b[38;5;167;01mKeyboardInterrupt\u001b[39;00m:\n\u001b[0;32m   1243\u001b[0m     \u001b[38;5;66;03m# re-raise KeyboardInterrupt, to truncate traceback\u001b[39;00m\n\u001b[0;32m   1244\u001b[0m     msg \u001b[38;5;241m=\u001b[39m \u001b[38;5;124m\"\u001b[39m\u001b[38;5;124mInterrupted by user\u001b[39m\u001b[38;5;124m\"\u001b[39m\n\u001b[1;32m-> 1245\u001b[0m     \u001b[38;5;28;01mraise\u001b[39;00m \u001b[38;5;167;01mKeyboardInterrupt\u001b[39;00m(msg) \u001b[38;5;28;01mfrom\u001b[39;00m \u001b[38;5;28;01mNone\u001b[39;00m\n\u001b[0;32m   1246\u001b[0m \u001b[38;5;28;01mexcept\u001b[39;00m \u001b[38;5;167;01mException\u001b[39;00m:\n\u001b[0;32m   1247\u001b[0m     \u001b[38;5;28mself\u001b[39m\u001b[38;5;241m.\u001b[39mlog\u001b[38;5;241m.\u001b[39mwarning(\u001b[38;5;124m\"\u001b[39m\u001b[38;5;124mInvalid Message:\u001b[39m\u001b[38;5;124m\"\u001b[39m, exc_info\u001b[38;5;241m=\u001b[39m\u001b[38;5;28;01mTrue\u001b[39;00m)\n",
      "\u001b[1;31mKeyboardInterrupt\u001b[0m: Interrupted by user"
     ]
    }
   ],
   "source": [
    "import random\n",
    "\n",
    "print(\">>> WELCOME TO ROCK PAPER SCISSSORS GAME <<<\")\n",
    "user = int(input(\"\\nWhat do you choose? Type 0 for 'rock', 1 for 'paper' and 2 for 'scissors': \"))\n",
    "computer = random.randint(0, 2)\n",
    "\n",
    "rock = (\"\"\"\n",
    "    _______\n",
    "---'   ____)\n",
    "      (_____)\n",
    "      (_____)\n",
    "      (____)\n",
    "---.__(___)\n",
    "\"\"\")\n",
    "\n",
    "paper = (\"\"\"\n",
    "     _______\n",
    "---'    ____)____\n",
    "           ______)\n",
    "          _______)\n",
    "         _______)\n",
    "---.__________)\n",
    "\"\"\")\n",
    "\n",
    "scissors = (\"\"\"\n",
    "    _______\n",
    "---'   ____)____\n",
    "          ______)\n",
    "       __________)\n",
    "      (____)\n",
    "---.__(___)\n",
    "\"\"\")\n",
    "\n",
    "\n",
    "if user == 0:\n",
    "    print(\"\\nRock chosen\")\n",
    "    print(rock)\n",
    "    if computer == 0:\n",
    "        print(\"\\nComputer chose Rock\")\n",
    "        print(rock)\n",
    "        print(\"> It is a tie. No winner. <\")\n",
    "    elif computer == 1:\n",
    "        print(\"\\nComputer chose Paper\")\n",
    "        print(paper)\n",
    "        print(\">> Computer won! <<\")\n",
    "    else:\n",
    "        print(\"\\nComputer chose Scissors\")\n",
    "        print(scissors)\n",
    "        print(\">> You won! <<\")\n",
    "\n",
    "if user == 1:\n",
    "    print(\"\\nPaper chosen\")\n",
    "    print(paper)\n",
    "    if computer == 1:\n",
    "        print(\"\\nComputer chose Paper\")\n",
    "        print(paper)\n",
    "        print(\"> It is a tie. No winner. <\")\n",
    "    elif computer == 0:\n",
    "        print(\"\\nComputer chose Rock\")\n",
    "        print(rock)\n",
    "        print(\">> You won! <<\")\n",
    "    else:\n",
    "        print(\"\\nComputer chose Scissors\")\n",
    "        print(scissors)\n",
    "        print(\">> Computer won! <<\")\n",
    "\n",
    "if user == 2:\n",
    "    print(\"\\nScissors chosen\")\n",
    "    print(scissors)\n",
    "    if computer == 2:\n",
    "        print(\"\\nComputer chose Scissors\")\n",
    "        print(scissors)\n",
    "        print(\"> It is a tie. No winner. <\")\n",
    "    elif computer == 1:\n",
    "        print(\"\\nComputer chose Paper\")\n",
    "        print(paper)\n",
    "        print(\">> You won! <<\")\n",
    "    else:\n",
    "        print(\"\\nComputer chose Rock\")\n",
    "        print(rock)\n",
    "        print(\">> Computer won! <<\")    \n"
   ]
  }
 ],
 "metadata": {
  "kernelspec": {
   "display_name": "Python 3 (ipykernel)",
   "language": "python",
   "name": "python3"
  },
  "language_info": {
   "codemirror_mode": {
    "name": "ipython",
    "version": 3
   },
   "file_extension": ".py",
   "mimetype": "text/x-python",
   "name": "python",
   "nbconvert_exporter": "python",
   "pygments_lexer": "ipython3",
   "version": "3.11.5"
  }
 },
 "nbformat": 4,
 "nbformat_minor": 5
}
