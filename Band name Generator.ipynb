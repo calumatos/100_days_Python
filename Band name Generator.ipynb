{
 "cells": [
  {
   "cell_type": "markdown",
   "id": "d75f945c",
   "metadata": {},
   "source": [
    "## Band name Generator - day 1\n",
    "\n",
    "A very simple first program that creates a band name by combining two strings."
   ]
  },
  {
   "cell_type": "code",
   "execution_count": 1,
   "id": "e0a7a872",
   "metadata": {},
   "outputs": [
    {
     "name": "stdout",
     "output_type": "stream",
     "text": [
      ">> Welcome to the Band Name Generator!!! <<\n",
      "Which city did you grew up in? Poa\n",
      "The name your pet: Cacau\n",
      "The name of your band could be: 'Poa Cacau'. Cool name!!!\n"
     ]
    }
   ],
   "source": [
    "print(\">> Welcome to the Band Name Generator!!! <<\")\n",
    "city = input(\"Which city did you grew up in? \")\n",
    "pet = input(\"The name your pet: \")\n",
    "print(f\"The name of your band could be: '{city} {pet}'. Cool name!!!\")"
   ]
  }
 ],
 "metadata": {
  "kernelspec": {
   "display_name": "Python 3 (ipykernel)",
   "language": "python",
   "name": "python3"
  },
  "language_info": {
   "codemirror_mode": {
    "name": "ipython",
    "version": 3
   },
   "file_extension": ".py",
   "mimetype": "text/x-python",
   "name": "python",
   "nbconvert_exporter": "python",
   "pygments_lexer": "ipython3",
   "version": "3.11.5"
  }
 },
 "nbformat": 4,
 "nbformat_minor": 5
}
